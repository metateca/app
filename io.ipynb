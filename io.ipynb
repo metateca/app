{
  "nbformat": 4,
  "nbformat_minor": 0,
  "metadata": {
    "colab": {
      "provenance": [],
      "gpuType": "T4",
      "authorship_tag": "ABX9TyMz5DwNA5ZTUeTsIhcF7p4g",
      "include_colab_link": true
    },
    "kernelspec": {
      "name": "python3",
      "display_name": "Python 3"
    },
    "language_info": {
      "name": "python"
    },
    "accelerator": "GPU"
  },
  "cells": [
    {
      "cell_type": "markdown",
      "metadata": {
        "id": "view-in-github",
        "colab_type": "text"
      },
      "source": [
        "<a href=\"https://colab.research.google.com/github/metateca/app/blob/main/io.ipynb\" target=\"_parent\"><img src=\"https://colab.research.google.com/assets/colab-badge.svg\" alt=\"Open In Colab\"/></a>"
      ]
    },
    {
      "cell_type": "code",
      "execution_count": 7,
      "metadata": {
        "colab": {
          "base_uri": "https://localhost:8080/",
          "height": 1000
        },
        "id": "jzXchTficY3j",
        "outputId": "d3c26159-838a-42ff-b392-2d337a968f95"
      },
      "outputs": [
        {
          "output_type": "stream",
          "name": "stdout",
          "text": [
            "Drive already mounted at /content/drive; to attempt to forcibly remount, call drive.mount(\"/content/drive\", force_remount=True).\n"
          ]
        },
        {
          "output_type": "display_data",
          "data": {
            "text/plain": [
              "<IPython.core.display.Markdown object>"
            ],
            "text/markdown": "# Análise do Modelo Metateca"
          },
          "metadata": {}
        },
        {
          "output_type": "display_data",
          "data": {
            "text/plain": [
              "<IPython.core.display.Markdown object>"
            ],
            "text/markdown": "## Dados Carregados/Gerados"
          },
          "metadata": {}
        },
        {
          "output_type": "stream",
          "name": "stdout",
          "text": [
            "<class 'pandas.core.frame.DataFrame'>\n",
            "RangeIndex: 40 entries, 0 to 39\n",
            "Data columns (total 12 columns):\n",
            " #   Column              Non-Null Count  Dtype  \n",
            "---  ------              --------------  -----  \n",
            " 0   aluno_id            40 non-null     int64  \n",
            " 1   grupo               40 non-null     object \n",
            " 2   disciplina_1        40 non-null     int64  \n",
            " 3   disciplina_2        40 non-null     int64  \n",
            " 4   disciplina_3        40 non-null     int64  \n",
            " 5   participacao_forum  40 non-null     float64\n",
            " 6   interacoes_colegas  40 non-null     int64  \n",
            " 7   desempenho          40 non-null     float64\n",
            " 8   satisfacao          40 non-null     int64  \n",
            " 9   pertencimento       40 non-null     int64  \n",
            " 10  centralidade_grau   40 non-null     float64\n",
            " 11  recomendacao        40 non-null     object \n",
            "dtypes: float64(3), int64(7), object(2)\n",
            "memory usage: 3.9+ KB\n",
            "None\n",
            "   aluno_id        grupo  disciplina_1  disciplina_2  disciplina_3  \\\n",
            "0         1  Com_Agentes             1             0             1   \n",
            "1         2  Sem_Agentes             0             1             0   \n",
            "2         3  Com_Agentes             1             1             0   \n",
            "3         4  Sem_Agentes             0             0             1   \n",
            "4         5  Com_Agentes             1             0             1   \n",
            "\n",
            "   participacao_forum  interacoes_colegas  desempenho  satisfacao  \\\n",
            "0                 3.5                   7         8.2           4   \n",
            "1                 1.2                   3         6.5           3   \n",
            "2                 4.8                   9         7.9           5   \n",
            "3                 0.8                   2         5.8           2   \n",
            "4                 2.9                   6         8.5           4   \n",
            "\n",
            "   pertencimento  centralidade_grau    recomendacao  \n",
            "0              5               0.25  disciplina_3 |  \n",
            "1              3               0.08  disciplina_2 |  \n",
            "2              4               0.32  disciplina_1 |  \n",
            "3              2               0.05  disciplina_3 |  \n",
            "4              5               0.21  disciplina_3 |  \n",
            "         aluno_id        grupo  disciplina_1  disciplina_2  disciplina_3  \\\n",
            "count   40.000000           40     40.000000     40.000000     40.000000   \n",
            "unique        NaN            2           NaN           NaN           NaN   \n",
            "top           NaN  Com_Agentes           NaN           NaN           NaN   \n",
            "freq          NaN           20           NaN           NaN           NaN   \n",
            "mean    20.500000          NaN      0.575000      0.550000      0.525000   \n",
            "std     11.690452          NaN      0.500641      0.503831      0.505736   \n",
            "min      1.000000          NaN      0.000000      0.000000      0.000000   \n",
            "25%     10.750000          NaN      0.000000      0.000000      0.000000   \n",
            "50%     20.500000          NaN      1.000000      1.000000      1.000000   \n",
            "75%     30.250000          NaN      1.000000      1.000000      1.000000   \n",
            "max     40.000000          NaN      1.000000      1.000000      1.000000   \n",
            "\n",
            "        participacao_forum  interacoes_colegas  desempenho  satisfacao  \\\n",
            "count            40.000000           40.000000    40.00000   40.000000   \n",
            "unique                 NaN                 NaN         NaN         NaN   \n",
            "top                    NaN                 NaN         NaN         NaN   \n",
            "freq                   NaN                 NaN         NaN         NaN   \n",
            "mean              2.742500            5.250000     7.02000    3.475000   \n",
            "std               1.605262            2.724532     1.13887    1.131994   \n",
            "min               0.500000            1.000000     5.00000    1.000000   \n",
            "25%               1.375000            3.000000     6.07500    3.000000   \n",
            "50%               2.500000            5.000000     7.05000    4.000000   \n",
            "75%               4.125000            7.250000     7.92500    4.000000   \n",
            "max               5.800000           10.000000     8.90000    5.000000   \n",
            "\n",
            "        pertencimento  centralidade_grau    recomendacao  \n",
            "count       40.000000          40.000000              40  \n",
            "unique            NaN                NaN               3  \n",
            "top               NaN                NaN  disciplina_1 |  \n",
            "freq              NaN                NaN              15  \n",
            "mean         3.425000           0.176250             NaN  \n",
            "std          1.217132           0.103421             NaN  \n",
            "min          1.000000           0.020000             NaN  \n",
            "25%          3.000000           0.087500             NaN  \n",
            "50%          3.500000           0.165000             NaN  \n",
            "75%          4.000000           0.262500             NaN  \n",
            "max          5.000000           0.370000             NaN  \n",
            "Gráfico salvo: /content/drive/MyDrive/graficos/desempenho_line.png\n"
          ]
        },
        {
          "output_type": "stream",
          "name": "stderr",
          "text": [
            "<ipython-input-7-6dd7a3032533>:77: FutureWarning: \n",
            "\n",
            "Passing `palette` without assigning `hue` is deprecated and will be removed in v0.14.0. Assign the `x` variable to `hue` and set `legend=False` for the same effect.\n",
            "\n",
            "  sns.boxplot(x=x_col, y=y_col, data=df, palette=DEFAULT_PALETTE, hue=hue)\n"
          ]
        },
        {
          "output_type": "stream",
          "name": "stdout",
          "text": [
            "Gráfico salvo: /content/drive/MyDrive/graficos/satisfacao_boxplot.png\n"
          ]
        },
        {
          "output_type": "stream",
          "name": "stderr",
          "text": [
            "<ipython-input-7-6dd7a3032533>:77: FutureWarning: \n",
            "\n",
            "Passing `palette` without assigning `hue` is deprecated and will be removed in v0.14.0. Assign the `x` variable to `hue` and set `legend=False` for the same effect.\n",
            "\n",
            "  sns.boxplot(x=x_col, y=y_col, data=df, palette=DEFAULT_PALETTE, hue=hue)\n"
          ]
        },
        {
          "output_type": "stream",
          "name": "stdout",
          "text": [
            "Gráfico salvo: /content/drive/MyDrive/graficos/pertencimento_boxplot.png\n"
          ]
        },
        {
          "output_type": "stream",
          "name": "stderr",
          "text": [
            "<ipython-input-7-6dd7a3032533>:98: UserWarning: No artists with labels found to put in legend.  Note that artists whose label start with an underscore are ignored when legend() is called with no argument.\n",
            "  plt.legend(title=hue.replace('_', ' '), loc='upper right')\n"
          ]
        },
        {
          "output_type": "stream",
          "name": "stdout",
          "text": [
            "Gráfico salvo: /content/drive/MyDrive/graficos/desempenho_violin.png\n"
          ]
        },
        {
          "output_type": "stream",
          "name": "stderr",
          "text": [
            "<ipython-input-7-6dd7a3032533>:98: UserWarning: No artists with labels found to put in legend.  Note that artists whose label start with an underscore are ignored when legend() is called with no argument.\n",
            "  plt.legend(title=hue.replace('_', ' '), loc='upper right')\n"
          ]
        },
        {
          "output_type": "stream",
          "name": "stdout",
          "text": [
            "Gráfico salvo: /content/drive/MyDrive/graficos/participacao_violin.png\n"
          ]
        },
        {
          "output_type": "stream",
          "name": "stderr",
          "text": [
            "<ipython-input-7-6dd7a3032533>:113: UserWarning: No artists with labels found to put in legend.  Note that artists whose label start with an underscore are ignored when legend() is called with no argument.\n",
            "  plt.legend(title=hue.replace('_', ' '), loc='upper right')\n"
          ]
        },
        {
          "output_type": "stream",
          "name": "stdout",
          "text": [
            "Gráfico salvo: /content/drive/MyDrive/graficos/desempenho_kde.png\n"
          ]
        },
        {
          "output_type": "stream",
          "name": "stderr",
          "text": [
            "<ipython-input-7-6dd7a3032533>:109: UserWarning: Ignoring `palette` because no `hue` variable has been assigned.\n",
            "  sns.kdeplot(data=df, x=x_col, hue=hue, palette=DEFAULT_PALETTE, fill=True, multiple=multiple)\n"
          ]
        },
        {
          "output_type": "stream",
          "name": "stdout",
          "text": [
            "Gráfico salvo: /content/drive/MyDrive/graficos/centralidade_kde.png\n"
          ]
        },
        {
          "output_type": "stream",
          "name": "stderr",
          "text": [
            "<ipython-input-7-6dd7a3032533>:113: UserWarning: No artists with labels found to put in legend.  Note that artists whose label start with an underscore are ignored when legend() is called with no argument.\n",
            "  plt.legend(title=hue.replace('_', ' '), loc='upper right')\n"
          ]
        },
        {
          "output_type": "stream",
          "name": "stdout",
          "text": [
            "Gráfico salvo: /content/drive/MyDrive/graficos/participacao_kde.png\n"
          ]
        },
        {
          "output_type": "stream",
          "name": "stderr",
          "text": [
            "<ipython-input-7-6dd7a3032533>:113: UserWarning: No artists with labels found to put in legend.  Note that artists whose label start with an underscore are ignored when legend() is called with no argument.\n",
            "  plt.legend(title=hue.replace('_', ' '), loc='upper right')\n"
          ]
        },
        {
          "output_type": "stream",
          "name": "stdout",
          "text": [
            "Gráfico salvo: /content/drive/MyDrive/graficos/interacoes_kde.png\n",
            "\n",
            "--- Análise de Agrupamento (K-Means) ---\n",
            "Distribuição dos Clusters:\n",
            " cluster\n",
            "0    12\n",
            "1    10\n",
            "3    10\n",
            "2     8\n",
            "Name: count, dtype: int64\n",
            "Características dos Clusters (Médias):\n",
            "          disciplina_1  disciplina_2  disciplina_3  participacao_forum  \\\n",
            "cluster                                                                 \n",
            "0            0.833333          0.50      0.666667            3.216667   \n",
            "1            0.500000          0.60      0.200000            1.530000   \n",
            "2            0.250000          0.25      0.500000            0.862500   \n",
            "3            0.600000          0.80      0.700000            4.890000   \n",
            "\n",
            "         interacoes_colegas  desempenho  \n",
            "cluster                                  \n",
            "0                  6.166667      7.5250  \n",
            "1                  3.500000      6.3700  \n",
            "2                  1.625000      5.4375  \n",
            "3                  8.800000      8.3300  \n"
          ]
        },
        {
          "output_type": "stream",
          "name": "stderr",
          "text": [
            "<ipython-input-7-6dd7a3032533>:93: FutureWarning: \n",
            "\n",
            "Passing `palette` without assigning `hue` is deprecated and will be removed in v0.14.0. Assign the `x` variable to `hue` and set `legend=False` for the same effect.\n",
            "\n",
            "  sns.violinplot(x=x_col, y=y_col, data=df, palette=DEFAULT_PALETTE, hue=hue, split=split)\n"
          ]
        },
        {
          "output_type": "stream",
          "name": "stdout",
          "text": [
            "Gráfico salvo: /content/drive/MyDrive/graficos/desempenho_cluster_violin.png\n"
          ]
        },
        {
          "output_type": "stream",
          "name": "stderr",
          "text": [
            "<ipython-input-7-6dd7a3032533>:77: FutureWarning: \n",
            "\n",
            "Passing `palette` without assigning `hue` is deprecated and will be removed in v0.14.0. Assign the `x` variable to `hue` and set `legend=False` for the same effect.\n",
            "\n",
            "  sns.boxplot(x=x_col, y=y_col, data=df, palette=DEFAULT_PALETTE, hue=hue)\n"
          ]
        },
        {
          "output_type": "stream",
          "name": "stdout",
          "text": [
            "Gráfico salvo: /content/drive/MyDrive/graficos/interacoes_boxplot.png\n",
            "\n",
            "--- Análise de Rede Social ---\n",
            "\n",
            "--- Sistema de Recomendação (Simulado) ---\n",
            "Recomendações (5 primeiros):\n",
            "    aluno_id  recomendacao\n",
            "0         1  disciplina_2\n",
            "1         2  disciplina_1\n",
            "2         3  disciplina_3\n",
            "3         4  disciplina_2\n",
            "4         5  disciplina_2\n"
          ]
        },
        {
          "output_type": "stream",
          "name": "stderr",
          "text": [
            "<ipython-input-7-6dd7a3032533>:166: FutureWarning: A value is trying to be set on a copy of a DataFrame or Series through chained assignment using an inplace method.\n",
            "The behavior will change in pandas 3.0. This inplace method will never work because the intermediate object on which we are setting values always behaves as a copy.\n",
            "\n",
            "For example, when doing 'df[col].method(value, inplace=True)', try using 'df.method({col: value}, inplace=True)' or df[col] = df[col].method(value) instead, to perform the operation inplace on the original object.\n",
            "\n",
            "\n",
            "  df['centralidade_grau'].fillna(0, inplace=True)\n"
          ]
        },
        {
          "output_type": "display_data",
          "data": {
            "text/plain": [
              "<IPython.core.display.Markdown object>"
            ],
            "text/markdown": "## Conclusões (Exemplo)"
          },
          "metadata": {}
        },
        {
          "output_type": "display_data",
          "data": {
            "text/plain": [
              "<IPython.core.display.Markdown object>"
            ],
            "text/markdown": "Resultados preliminares (dados carregados ou sintéticos)."
          },
          "metadata": {}
        }
      ],
      "source": [
        "import pandas as pd\n",
        "import numpy as np\n",
        "import matplotlib.pyplot as plt\n",
        "import seaborn as sns\n",
        "import sklearn.cluster as cluster\n",
        "import networkx as nx\n",
        "from IPython.display import display, Markdown\n",
        "import os\n",
        "from google.colab import drive\n",
        "\n",
        "# --- Configurações e Constantes ---\n",
        "DEFAULT_PALETTE = \"viridis\"\n",
        "FIGSIZE = (12, 8)\n",
        "\n",
        "sns.set(style=\"darkgrid\")\n",
        "plt.rcParams.update({\n",
        "    'figure.facecolor': 'black',\n",
        "    'axes.facecolor': 'black',\n",
        "    'axes.edgecolor': 'white',\n",
        "    'axes.labelcolor': 'cyan',\n",
        "    'xtick.color': 'white',\n",
        "    'ytick.color': 'white',\n",
        "    'text.color': 'white',\n",
        "    'grid.color': 'gray',\n",
        "    'grid.linestyle': '--',\n",
        "    'legend.facecolor': 'black',\n",
        "    'legend.edgecolor': 'white',\n",
        "    'figure.titlesize': 20,\n",
        "    'axes.titlesize': 16,\n",
        "    'axes.labelsize': 14,\n",
        "    'xtick.labelsize': 12,\n",
        "    'ytick.labelsize': 12,\n",
        "    'legend.fontsize': 12,\n",
        "})\n",
        "\n",
        "# --- Funções Auxiliares ---\n",
        "\n",
        "def mount_google_drive():\n",
        "    \"\"\"Monta o Google Drive.\"\"\"\n",
        "    drive.mount('/content/drive')\n",
        "\n",
        "def get_drive_path(relative_path):\n",
        "    \"\"\"Retorna o caminho completo no Drive.\"\"\"\n",
        "    return os.path.join('/content/drive/MyDrive', relative_path)\n",
        "\n",
        "def ensure_directory_exists_on_drive(relative_path):\n",
        "    \"\"\"Cria diretório no Drive, se não existir.\"\"\"\n",
        "    drive_path = get_drive_path(relative_path)\n",
        "    if not os.path.exists(drive_path):\n",
        "        os.makedirs(drive_path, exist_ok=True)\n",
        "        print(f\"Diretório criado: {drive_path}\")\n",
        "    return drive_path\n",
        "\n",
        "def create_figure():\n",
        "    \"\"\"Cria uma figura com tamanho padrão.\"\"\"\n",
        "    return plt.figure(figsize=FIGSIZE)\n",
        "\n",
        "def save_fig(fig, filename, drive_folder_path):\n",
        "    \"\"\"Salva a figura no Drive.\"\"\"\n",
        "    try:\n",
        "        filepath = os.path.join(drive_folder_path, filename)\n",
        "        fig.savefig(filepath, dpi=300, bbox_inches='tight')\n",
        "        print(f\"Gráfico salvo: {filepath}\")\n",
        "    except Exception as e:\n",
        "        print(f\"Erro ao salvar '{filename}': {e}\")\n",
        "    finally:\n",
        "        plt.close(fig)\n",
        "\n",
        "# --- Funções de Visualização ---\n",
        "\n",
        "def plot_boxplot(df, x_col, y_col, title, filename, drive_folder_path, hue=None):\n",
        "    \"\"\"Plota boxplots.\"\"\"\n",
        "    try:\n",
        "        if x_col not in df.columns or y_col not in df.columns:\n",
        "            raise ValueError(f\"Colunas '{x_col}' ou '{y_col}' não encontradas.\")\n",
        "        fig = create_figure()\n",
        "        sns.boxplot(x=x_col, y=y_col, data=df, palette=DEFAULT_PALETTE, hue=hue)\n",
        "        plt.title(title)\n",
        "        plt.xlabel(x_col.replace('_', ' '))\n",
        "        plt.ylabel(y_col.replace('_', ' '))\n",
        "        if hue and hue in df.columns:\n",
        "            plt.legend(title=hue.replace('_', ' '), loc='upper right')\n",
        "        save_fig(fig, filename, drive_folder_path)\n",
        "    except (ValueError, KeyError, Exception) as e:\n",
        "        print(f\"Erro em plot_boxplot: {e}\")\n",
        "\n",
        "def plot_violin(df, x_col, y_col, title, filename, drive_folder_path, hue=None, split=False):\n",
        "    \"\"\"Plota gráfico de violino.\"\"\"\n",
        "    try:\n",
        "        if x_col not in df.columns or y_col not in df.columns:\n",
        "            raise ValueError(f\"Colunas '{x_col}' ou '{y_col}' não encontradas.\")\n",
        "        fig = create_figure()\n",
        "        sns.violinplot(x=x_col, y=y_col, data=df, palette=DEFAULT_PALETTE, hue=hue, split=split)\n",
        "        plt.title(title)\n",
        "        plt.xlabel(x_col.replace('_', ' '))\n",
        "        plt.ylabel(y_col.replace('_', ' '))\n",
        "        if hue and hue in df.columns:\n",
        "            plt.legend(title=hue.replace('_', ' '), loc='upper right')\n",
        "        save_fig(fig, filename, drive_folder_path)\n",
        "    except (ValueError, KeyError, Exception) as e:\n",
        "        print(f\"Erro em plot_violin: {e}\")\n",
        "\n",
        "def plot_kde(df, x_col, title, filename, drive_folder_path, hue=None, multiple=\"layer\"):\n",
        "    \"\"\"Plota gráfico de densidade KDE.\"\"\"\n",
        "    try:\n",
        "        if x_col not in df.columns:\n",
        "            raise ValueError(f\"Coluna '{x_col}' não encontrada.\")\n",
        "        fig = create_figure()\n",
        "        sns.kdeplot(data=df, x=x_col, hue=hue, palette=DEFAULT_PALETTE, fill=True, multiple=multiple)\n",
        "        plt.title(title)\n",
        "        plt.xlabel(x_col.replace('_', ' '))\n",
        "        if hue and hue in df.columns:\n",
        "            plt.legend(title=hue.replace('_', ' '), loc='upper right')\n",
        "        save_fig(fig, filename, drive_folder_path)\n",
        "    except (ValueError, KeyError, Exception) as e:\n",
        "        print(f\"Erro em plot_kde: {e}\")\n",
        "\n",
        "def plot_line(df, x_col, y_col, title, filename, drive_folder_path, hue=None):\n",
        "    \"\"\"Plota gráfico de linha.\"\"\"\n",
        "    try:\n",
        "        if x_col not in df.columns or y_col not in df.columns:\n",
        "            raise ValueError(f\"Colunas '{x_col}' ou '{y_col}' não encontradas.\")\n",
        "        fig = create_figure()\n",
        "        sns.lineplot(x=x_col, y=y_col, data=df, hue=hue, palette=DEFAULT_PALETTE)\n",
        "        plt.title(title)\n",
        "        plt.xlabel(x_col.replace('_', ' '))\n",
        "        plt.ylabel(y_col.replace('_', ' '))\n",
        "        if hue and hue in df.columns:\n",
        "            plt.legend(title=hue.replace('_', ' '), loc='upper right')\n",
        "        save_fig(fig, filename, drive_folder_path)\n",
        "    except (ValueError, KeyError, Exception) as e:\n",
        "        print(f\"Erro em plot_line: {e}\")\n",
        "\n",
        "# --- Funções de Análise --- (Mantidas, mas não diretamente usadas para plotagem)\n",
        "\n",
        "def analyze_clusters(df, features, n_clusters=4):\n",
        "    \"\"\"Análise de agrupamento (k-means).\"\"\"\n",
        "    print(\"\\n--- Análise de Agrupamento (K-Means) ---\")\n",
        "    try:\n",
        "        if not all(feature in df.columns for feature in features):\n",
        "            raise ValueError(\"Nem todas as features estão no DataFrame.\")\n",
        "        kmeans = cluster.KMeans(n_clusters=n_clusters, random_state=42, n_init='auto')\n",
        "        df['cluster'] = kmeans.fit_predict(df[features])\n",
        "        print(\"Distribuição dos Clusters:\\n\", df['cluster'].value_counts())\n",
        "        print(\"Características dos Clusters (Médias):\\n\", df.groupby('cluster')[features].mean())\n",
        "        return df\n",
        "    except (ValueError, Exception) as e:\n",
        "        print(f\"Erro em analyze_clusters: {e}\")\n",
        "        return df\n",
        "\n",
        "def analyze_social_network(df, interaction_threshold=3):\n",
        "    \"\"\"Análise de rede social.\"\"\"\n",
        "    print(\"\\n--- Análise de Rede Social ---\")\n",
        "    try:\n",
        "        if 'aluno_id' not in df.columns or 'interacoes_colegas' not in df.columns:\n",
        "            raise ValueError(\"'aluno_id' e 'interacoes_colegas' são necessários.\")\n",
        "        graph = nx.Graph()\n",
        "        graph.add_nodes_from(df['aluno_id'])\n",
        "        for i, row_i in df.iterrows():\n",
        "            for j, row_j in df.iterrows():\n",
        "                if i < j:\n",
        "                    if abs(row_i['interacoes_colegas'] - row_j['interacoes_colegas']) <= interaction_threshold:\n",
        "                        graph.add_edge(row_i['aluno_id'], row_j['aluno_id'])\n",
        "        degree_centrality = nx.degree_centrality(graph)\n",
        "        df['centralidade_grau'] = df['aluno_id'].map(degree_centrality)\n",
        "        df['centralidade_grau'].fillna(0, inplace=True)\n",
        "        return graph, df  # Retorna o grafo e o DataFrame\n",
        "    except (ValueError, Exception) as e:\n",
        "        print(f\"Erro em analyze_social_network: {e}\")\n",
        "        return nx.Graph(), df\n",
        "\n",
        "def create_recommendations(df):\n",
        "    \"\"\"Cria recomendações (simples).\"\"\"\n",
        "    print(\"\\n--- Sistema de Recomendação (Simulado) ---\")\n",
        "    disciplinas = ['disciplina_1', 'disciplina_2', 'disciplina_3']\n",
        "    df['recomendacao'] = ''\n",
        "    for index, row in df.iterrows():\n",
        "        available = [d for d in disciplinas if row[d] == 0]\n",
        "        df.loc[index, 'recomendacao'] = np.random.choice(available or disciplinas)\n",
        "    print(\"Recomendações (5 primeiros):\\n\", df[['aluno_id', 'recomendacao']].head())\n",
        "    return df\n",
        "\n",
        "# --- Função para Gerar Dados Sintéticos (Opcional) ---\n",
        "def generate_synthetic_data(n_alunos=40):\n",
        "    \"\"\"Gera dados sintéticos se o CSV falhar.\"\"\"\n",
        "    np.random.seed(42)\n",
        "    data = {\n",
        "        'aluno_id': range(1, n_alunos + 1),\n",
        "        'grupo': np.random.choice(['Com_Agentes', 'Sem_Agentes'], size=n_alunos, p=[0.5, 0.5]),\n",
        "        'disciplina_1': np.random.choice([0, 1], size=n_alunos, p=[0.7, 0.3]),\n",
        "        'disciplina_2': np.random.choice([0, 1], size=n_alunos, p=[0.6, 0.4]),\n",
        "        'disciplina_3': np.random.choice([0, 1], size=n_alunos, p=[0.8, 0.2]),\n",
        "        'participacao_forum': np.random.exponential(scale=2, size=n_alunos),\n",
        "        'interacoes_colegas': np.random.poisson(lam=5, size=n_alunos),\n",
        "        'desempenho': np.random.normal(loc=7, scale=1.5, size=n_alunos),\n",
        "        'satisfacao': np.random.randint(1, 6, size=n_alunos),\n",
        "        'pertencimento': np.random.randint(1, 6, size=n_alunos),\n",
        "        'centralidade_grau': np.random.rand(n_alunos)\n",
        "    }\n",
        "    df = pd.DataFrame(data)\n",
        "    df.loc[df['grupo'] == 'Com_Agentes', 'participacao_forum'] *= 1.5\n",
        "    df.loc[df['grupo'] == 'Com_Agentes', 'interacoes_colegas'] += 2\n",
        "    df.loc[df['grupo'] == 'Com_Agentes', 'desempenho'] += 1\n",
        "    df.loc[df['grupo'] == 'Com_Agentes', 'satisfacao'] = np.clip(df.loc[df['grupo'] == 'Com_Agentes', 'satisfacao'] + 1, 1, 5)\n",
        "    df.loc[df['grupo'] == 'Com_Agentes', 'pertencimento'] = np.clip(df.loc[df['grupo'] == 'Com_Agentes', 'pertencimento'] + 1, 1, 5)\n",
        "    df.loc[df['grupo'] == 'Com_Agentes', 'centralidade_grau'] *= 1.5\n",
        "    return df\n",
        "\n",
        "# --- Função Principal (main) ---\n",
        "if __name__ == \"__main__\":\n",
        "    mount_google_drive()\n",
        "    graficos_drive_path = ensure_directory_exists_on_drive('graficos')\n",
        "\n",
        "    display(Markdown(\"# Análise do Modelo Metateca\"))\n",
        "\n",
        "    # --- Carregar Dados (ou Gerar Sintéticos) ---\n",
        "    data_url = \"https://docs.google.com/spreadsheets/d/1UwNS3dBbamoyVoygXH0RYfucYwoAHnYL-Q5F8Q2ZyRo/export?format=csv\"\n",
        "    try:\n",
        "        df = pd.read_csv(data_url)\n",
        "        df.columns = [col.strip().lower().replace(\" \", \"_\") for col in df.columns]\n",
        "        df = df.rename(columns={'estudante_id': 'aluno_id'})\n",
        "        for col in ['habilidade_previa', 'tempo_tarefa', 'qualidade_escrita',\n",
        "                    'resolucao_problemas', 'pensamento_critico', 'num_prompts', 'satisfacao']:\n",
        "            if col in df.columns:\n",
        "                df[col] = pd.to_numeric(df[col], errors='coerce')\n",
        "        df.dropna(inplace=True)\n",
        "    except Exception as e:\n",
        "        print(f\"Erro ao carregar dados: {e}. Usando dados sintéticos...\")\n",
        "        df = generate_synthetic_data()\n",
        "\n",
        "    # --- Análise Exploratória e Visualizações ---\n",
        "    display(Markdown(\"## Dados Carregados/Gerados\"))\n",
        "    print(df.info())\n",
        "    print(df.head())\n",
        "    print(df.describe(include='all'))\n",
        "\n",
        "    # --- Gráficos (11 ao total, 4 tipos) ---\n",
        "\n",
        "    # 1. Gráfico de Linha (Desempenho ao longo do tempo)\n",
        "    plot_line(df, 'aluno_id', 'desempenho', \"Desempenho ao Longo do Tempo\", \"desempenho_line.png\", graficos_drive_path, hue='grupo')\n",
        "\n",
        "    # 2. Boxplot (Satisfação por Grupo)\n",
        "    plot_boxplot(df, 'grupo', 'satisfacao', \"Satisfação por Grupo\", \"satisfacao_boxplot.png\", graficos_drive_path)\n",
        "\n",
        "    # 3. Boxplot (Pertencimento por Grupo)\n",
        "    plot_boxplot(df, 'grupo', 'pertencimento', \"Pertencimento por Grupo\", \"pertencimento_boxplot.png\", graficos_drive_path)\n",
        "\n",
        "    # 4. Violin Plot (Desempenho por Grupo, com split)\n",
        "    plot_violin(df, 'grupo', 'desempenho', \"Distribuição de Desempenho por Grupo (Violino)\", \"desempenho_violin.png\", graficos_drive_path, hue='grupo', split=True)\n",
        "\n",
        "    # 5. Violin Plot (Participação no Fórum por Grupo)\n",
        "    plot_violin(df, 'grupo', 'participacao_forum', \"Participação no Fórum por Grupo (Violino)\", \"participacao_violin.png\", graficos_drive_path, hue='grupo')\n",
        "\n",
        "    # 6. KDE Plot (Desempenho, com hue por grupo)\n",
        "    plot_kde(df, 'desempenho', \"Densidade de Desempenho\", \"desempenho_kde.png\", graficos_drive_path, hue='grupo')\n",
        "\n",
        "    # 7. KDE Plot (Centralidade de Grau)\n",
        "    plot_kde(df, 'centralidade_grau', 'Distribuição da Centralidade', 'centralidade_kde.png', graficos_drive_path)\n",
        "\n",
        "    # 8. KDE Plot (Participação no Fórum, com hue por grupo)\n",
        "    plot_kde(df, 'participacao_forum', \"Densidade de Participação no Fórum\", \"participacao_kde.png\", graficos_drive_path, hue='grupo', multiple=\"stack\")\n",
        "\n",
        "    # 9. KDE Plot (Interações com Colegas, com hue por grupo)\n",
        "    plot_kde(df, 'interacoes_colegas', \"Densidade de Interações com Colegas\", \"interacoes_kde.png\", graficos_drive_path, hue='grupo', multiple=\"fill\")\n",
        "\n",
        "    # --- Análises (Opcional, para dados adicionais)\n",
        "    cluster_features = ['disciplina_1', 'disciplina_2', 'disciplina_3',\n",
        "                        'participacao_forum', 'interacoes_colegas', 'desempenho']\n",
        "    df = analyze_clusters(df, cluster_features)  # Análise de cluster (opcional)\n",
        "\n",
        "    # 10. Violin Plot (Desempenho por Cluster)\n",
        "    if 'cluster' in df.columns:\n",
        "        plot_violin(df, 'cluster', 'desempenho', \"Desempenho por Cluster (Violino)\", \"desempenho_cluster_violin.png\", graficos_drive_path)\n",
        "\n",
        "    # 11. Boxplot (Interações com Colegas por Grupo)\n",
        "    plot_boxplot(df, 'grupo', 'interacoes_colegas', \"Interações com Colegas por Grupo\", \"interacoes_boxplot.png\", graficos_drive_path)\n",
        "\n",
        "\n",
        "    graph, df = analyze_social_network(df)  # Análise de rede social (opcional)\n",
        "    df = create_recommendations(df) # Recomendação (opcional)\n",
        "\n",
        "    display(Markdown(\"## Conclusões (Exemplo)\"))\n",
        "    display(Markdown(\"Resultados preliminares (dados carregados ou sintéticos).\"))"
      ]
    }
  ]
}